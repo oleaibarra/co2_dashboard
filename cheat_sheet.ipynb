{
 "cells": [
  {
   "cell_type": "markdown",
   "id": "8a73ac1e-71ab-4fa9-a367-da3b0b726cad",
   "metadata": {},
   "source": [
    "#### Get the list of all column names from headers"
   ]
  },
  {
   "cell_type": "raw",
   "id": "a77a66bd-88dd-4f1a-be5a-a1067966e8fe",
   "metadata": {},
   "source": [
    "column_headers = list(df.columns.values)"
   ]
  },
  {
   "cell_type": "markdown",
   "id": "3b1812b0-f220-42f7-ae76-bfe77ef4bb77",
   "metadata": {},
   "source": [
    "#### Drop columns"
   ]
  },
  {
   "cell_type": "raw",
   "id": "6222d980-d8b2-4298-9167-ad28613becbc",
   "metadata": {},
   "source": [
    "df.drop(['B', 'C'], axis=1)"
   ]
  },
  {
   "cell_type": "markdown",
   "id": "e1aff77a-8932-445b-9ed1-467db7144a6c",
   "metadata": {},
   "source": [
    "#### Make subset (new dataframe) selecting columns from original dataframe"
   ]
  },
  {
   "cell_type": "raw",
   "id": "4324fe4c-aaac-4b6c-b4ef-ab2fd9f01351",
   "metadata": {},
   "source": [
    "# Using DataFrame.copy() create new DaraFrame.(con este método las modificaciones al subset no afectan al dataframe original)\n",
    "df2 = df[['Courses', 'Fee']].copy()\n",
    "\n",
    "# Using DataFrame.filter() method.\n",
    "df2 = df.filter(['Courses','Fee'], axis=1)\n",
    "\n",
    "# USing DataFrame.transpose() Method.\n",
    "df2 = pd.DataFrame([df.Courses, df.Fee]).transpose()\n",
    "\n",
    "# Using DataFrame.iloc[] create new DataFrame by df.copy().\n",
    "df2 = df.iloc[: , [1, 2]].copy()\n",
    "\n",
    "# Using DataFrame.loc[] create new DataFrame by specific column.\n",
    "df2=df.loc[:, df.columns.drop(['Courses', 'Discount'])]\n",
    "\n",
    "# Create New DataFrame of Specific column by DataFrame.assign() method.\n",
    "df2 = pd.DataFrame().assign(Courses=df['Courses'], Duration=df['Duration'])\n",
    "\n",
    "# Create new pandas DataFrame.(las modificaciones que se hagan en el subset afectan al dataframe original)\n",
    "df2 = df[['Courses','Fee']]\n"
   ]
  },
  {
   "cell_type": "markdown",
   "id": "c768c8f5-0df9-4eda-af0c-19b4c77cbc2b",
   "metadata": {},
   "source": [
    "#### Max Value"
   ]
  },
  {
   "cell_type": "raw",
   "id": "44c0ad0d-97f9-4522-ae30-50acddf13530",
   "metadata": {},
   "source": [
    "# df is a pandas dataframe\n",
    "\n",
    "# max value in a column\n",
    "df['Col'].max()\n",
    "# max value for multiple columns\n",
    "df[['Col1', 'Col2']].max()\n",
    "# max value for each numerical column in the dataframe\n",
    "df.max(numeric_only=True)\n",
    "# max value in the entire dataframe\n",
    "df.max(numeric_only=True).max()\n",
    "# max value over two columns\n",
    "df[['Col1', 'Col2']].max().max()\n",
    "\n",
    "# --> You can get the index of the max value by doing:\n",
    "i = df['Col'].idxmax()"
   ]
  },
  {
   "cell_type": "markdown",
   "id": "804099d1-1e3d-4d59-aa13-b4f941335ee7",
   "metadata": {},
   "source": [
    "#### Sort (Sorting)"
   ]
  },
  {
   "cell_type": "raw",
   "id": "15e7f1ec-e160-4879-8467-6dd89b831c44",
   "metadata": {},
   "source": [
    "# Sort by one column (ascending)\n",
    "df.sort_values(by=['col1'])\n",
    "\n",
    "# Sort by one column (descending)\n",
    "df.sort_values(by='col1', ascending=False)\n",
    "\n",
    "# Sort by multiple columns\n",
    "df.sort_values(by=['col1', 'col2'])\n",
    "\n",
    "# Puttig NAs first\n",
    "df.sort_values(by='col1', ascending=False, na_position='first')\n",
    "\n",
    "# Sorting with a key function\n",
    "df.sort_values(by='col4', key=lambda col: col.str.lower())"
   ]
  },
  {
   "cell_type": "markdown",
   "id": "1a784aaf-fc02-4d82-aff4-3e6afc6c4757",
   "metadata": {},
   "source": [
    "#### Filter (Filtering) by column value"
   ]
  },
  {
   "cell_type": "raw",
   "id": "d2580531-0585-4b45-9a44-c559fe2b7217",
   "metadata": {},
   "source": [
    "# Filter Rows using DataFrame.query()\n",
    "df2=df.query(\"Courses == 'Spark'\")\n",
    "\n",
    "#Using variable\n",
    "value='Spark'\n",
    "df2=df.query(\"Courses == @value\")\n",
    "\n",
    "#inpace\n",
    "df.query(\"Courses == 'Spark'\",inplace=True)\n",
    "\n",
    "#Not equals, in & multiple conditions\n",
    "df.query(\"Courses != 'Spark'\")\n",
    "df.query(\"Courses in ('Spark','PySpark')\")\n",
    "df.query(\"`Courses Fee` >= 23000\")\n",
    "df.query(\"`Courses Fee` >= 23000 and `Courses Fee` <= 24000\")\n",
    "\n",
    "# Other ways to Filter Rows\n",
    "df.loc[df['Courses'] == value]\n",
    "df.loc[df['Courses'] != 'Spark']\n",
    "df.loc[df['Courses'].isin(values)]\n",
    "df.loc[~df['Courses'].isin(values)]\n",
    "df.loc[(df['Discount'] >= 1000) & (df['Discount'] <= 2000)]\n",
    "df.loc[(df['Discount'] >= 1200) & (df['Fee'] >= 23000 )]\n",
    "\n",
    "df[df[\"Courses\"] == 'Spark'] \n",
    "df[df['Courses'].str.contains(\"Spark\")]\n",
    "df[df['Courses'].str.lower().str.contains(\"spark\")]\n",
    "df[df['Courses'].str.startswith(\"P\")]\n",
    "\n",
    "df.apply(lambda row: row[df['Courses'].isin(['Spark','PySpark'])])\n",
    "df.dropna()\n"
   ]
  },
  {
   "cell_type": "markdown",
   "id": "40179007-42dc-4b3b-b86c-30f260d1a80c",
   "metadata": {},
   "source": [
    "#### Get a cell value"
   ]
  },
  {
   "cell_type": "raw",
   "id": "fff74115-0fc0-4d1b-8850-8a1b6c95d69a",
   "metadata": {},
   "source": [
    "# Belwo are quick example \n",
    "# Using loc[]. Get cell value by name & index\n",
    "print(df.loc['r4']['Duration'])\n",
    "print(df.loc['r4'][2])\n",
    "\n",
    "# Using iloc[]. Get cell value by index & name\n",
    "print(df.iloc[3]['Duration'])\n",
    "print(df.iloc[3,2])\n",
    "\n",
    "\n",
    "# Using DataFrame.at[]\n",
    "print(df.at['r4','Duration'])\n",
    "print(df.at[df.index[3],'Duration'])\n",
    "\n",
    "# Using DataFrame.iat[]\n",
    "print(df.iat[3,2])\n",
    "\n",
    "#Get a cell value (the number inside the [] in .values[3] in this case would be index 3 of rows)\n",
    "print(df[\"Duration\"].values[3])\n",
    "\n",
    "# Get cell value from last row\n",
    "print(df.iloc[-1,2])\n",
    "print(df.iloc[-1]['Duration'])\n",
    "print(df.at[df.index[-1],'Duration'])"
   ]
  },
  {
   "cell_type": "markdown",
   "id": "7eef30e6-7af8-4c54-b101-bf57ff724312",
   "metadata": {},
   "source": [
    "#### Query "
   ]
  },
  {
   "cell_type": "raw",
   "id": "9a8e4494-eb2d-4a78-9d91-f79caaac2907",
   "metadata": {},
   "source": [
    "\n",
    "# Query Rows using DataFrame.query()\n",
    "df2=df.query(\"Courses == 'Spark'\")\n",
    "\n",
    "#Using variable\n",
    "value='Spark'\n",
    "df2=df.query(\"Courses == @value\")\n",
    "\n",
    "#inpace\n",
    "df.query(\"Courses == 'Spark'\",inplace=True)\n",
    "\n",
    "#Not equals, in & multiple conditions\n",
    "df.query(\"Courses != 'Spark'\")\n",
    "df.query(\"Courses in ('Spark','PySpark')\")\n",
    "df.query(\"`Courses Fee` >= 23000\")\n",
    "df.query(\"`Courses Fee` >= 23000 and `Courses Fee` <= 24000\")\n"
   ]
  },
  {
   "cell_type": "markdown",
   "id": "03464450-f952-496a-b067-dc95a1116ec5",
   "metadata": {},
   "source": [
    "#### Changing datatype of a column"
   ]
  },
  {
   "cell_type": "raw",
   "id": "d5401bd9-ee3b-4a32-8ee9-47ca871261fa",
   "metadata": {},
   "source": [
    "df['DataFrame Column'] = df['DataFrame Column'].astype(float)"
   ]
  },
  {
   "cell_type": "markdown",
   "id": "1cc37075-81f9-42e4-a04a-c8b26e184de4",
   "metadata": {},
   "source": [
    "#### resetting the DataFrame index"
   ]
  },
  {
   "cell_type": "raw",
   "id": "c3d73bcf-dc5e-43b9-b3bc-0c5c80b7d39a",
   "metadata": {},
   "source": [
    "df = df.reset_index()"
   ]
  },
  {
   "cell_type": "markdown",
   "id": "2814825a-8c02-4d85-9e5f-d7d46e9cb8c2",
   "metadata": {},
   "source": [
    "#### Exporting to csv"
   ]
  },
  {
   "cell_type": "raw",
   "id": "6002ef69-49be-4933-aefa-faab8d48cf04",
   "metadata": {},
   "source": [
    "df.to_csv('file_name.csv', encoding='utf-8')\n",
    "df.to_csv('file_name.csv',index=False, encoding='utf-8') #para no exportar el índice"
   ]
  },
  {
   "cell_type": "markdown",
   "id": "aa492912-5fa4-4702-9202-fb6d6cb4fcf7",
   "metadata": {},
   "source": [
    "#### Rename columns"
   ]
  },
  {
   "cell_type": "raw",
   "id": "1e560045-3e92-4c46-9893-50db17d63d19",
   "metadata": {},
   "source": [
    "df.rename(columns={\"id\": \"ID\"}, inplace=True)"
   ]
  },
  {
   "cell_type": "markdown",
   "id": "dc9bc729-be85-4c26-85f5-47269f962ef7",
   "metadata": {},
   "source": [
    "#### Merge dataframes (concat) "
   ]
  },
  {
   "cell_type": "raw",
   "id": "c00530e0-3a93-45cb-bcc5-ce8595914e52",
   "metadata": {},
   "source": [
    "In [10]: result = pd.concat([df1, df4], axis=1, join=\"inner\")"
   ]
  },
  {
   "cell_type": "markdown",
   "id": "2a36053f-5022-4a6a-bd31-9f83d559dc09",
   "metadata": {},
   "source": [
    "#### Iterating over rows "
   ]
  },
  {
   "cell_type": "raw",
   "id": "33462d9b-c673-4ab3-93b9-25860762c9d9",
   "metadata": {},
   "source": [
    "for ind in df.index:\n",
    "    print(df['Col1_Name'][ind], df['Col2_name'][ind])"
   ]
  }
 ],
 "metadata": {
  "kernelspec": {
   "display_name": "Python 3 (ipykernel)",
   "language": "python",
   "name": "python3"
  },
  "language_info": {
   "codemirror_mode": {
    "name": "ipython",
    "version": 3
   },
   "file_extension": ".py",
   "mimetype": "text/x-python",
   "name": "python",
   "nbconvert_exporter": "python",
   "pygments_lexer": "ipython3",
   "version": "3.8.16"
  }
 },
 "nbformat": 4,
 "nbformat_minor": 5
}
